{
 "cells": [
  {
   "cell_type": "code",
   "execution_count": 1,
   "metadata": {},
   "outputs": [],
   "source": [
    "import numpy as np\n",
    "import torch\n",
    "import torch.nn as nn\n",
    "import torch.nn.functional as F"
   ]
  },
  {
   "cell_type": "code",
   "execution_count": 3,
   "metadata": {},
   "outputs": [],
   "source": [
    "class GraphAttentionLayer(nn.Module):\n",
    "    \"\"\"\n",
    "    Simple GAT layer, similar to https://arxiv.org/abs/1710.10903\n",
    "    \"\"\"\n",
    "\n",
    "    def __init__(self, in_features, out_features, dropout, alpha, concat=True):\n",
    "        # init\n",
    "        super(GraphAttentionLayer, self).__init__()\n",
    "        # input parameters\n",
    "        self.dropout = dropout\n",
    "        self.in_features = in_features\n",
    "        self.out_features = out_features\n",
    "        self.alpha = alpha\n",
    "        self.concat = concat\n",
    "        # layer parameters\n",
    "        self.W = nn.Parameter(torch.zeros(size=(in_features, out_features)))\n",
    "        nn.init.xavier_uniform_(self.W.data, gain=1.414)\n",
    "        self.a = nn.Parameter(torch.zeros(size=(2*out_features, 1)))\n",
    "        nn.init.xavier_uniform_(self.a.data, gain=1.414)\n",
    "\n",
    "        self.leakyrelu = nn.LeakyReLU(self.alpha)\n",
    "\n",
    "    def forward(self, input, adj):\n",
    "        h = torch.mm(input, self.W)\n",
    "        N = h.size()[0]\n",
    "        # attention\n",
    "        a_input = torch.cat([h.repeat(1, N).view(N * N, -1), h.repeat(N, 1)], dim=1).view(N, -1, 2 * self.out_features)\n",
    "        e = self.leakyrelu(torch.matmul(a_input, self.a).squeeze(2))\n",
    "\n",
    "        zero_vec = -9e15*torch.ones_like(e)\n",
    "        attention = torch.where(adj > 0, e, zero_vec)\n",
    "        attention = F.softmax(attention, dim=1)\n",
    "        attention = F.dropout(attention, self.dropout, training=self.training)\n",
    "        h_prime = torch.matmul(attention, h)\n",
    "\n",
    "        if self.concat:\n",
    "            return F.elu(h_prime)\n",
    "        else:\n",
    "            return h_prime\n",
    "\n",
    "    def __repr__(self):\n",
    "        return self.__class__.__name__ + ' (' + str(self.in_features) + ' -> ' + str(self.out_features) + ')'"
   ]
  },
  {
   "cell_type": "code",
   "execution_count": 25,
   "metadata": {
    "scrolled": false
   },
   "outputs": [
    {
     "name": "stdout",
     "output_type": "stream",
     "text": [
      "tensor([[ 1.0928,  0.8987],\n",
      "        [-0.7144, -0.3498],\n",
      "        [-0.7878, -0.7350],\n",
      "        [ 0.2330, -0.2180]])\n",
      "tensor([[[ 1.0928,  0.8987,  1.0928,  0.8987],\n",
      "         [ 1.0928,  0.8987, -0.7144, -0.3498],\n",
      "         [ 1.0928,  0.8987, -0.7878, -0.7350],\n",
      "         [ 1.0928,  0.8987,  0.2330, -0.2180]],\n",
      "\n",
      "        [[-0.7144, -0.3498,  1.0928,  0.8987],\n",
      "         [-0.7144, -0.3498, -0.7144, -0.3498],\n",
      "         [-0.7144, -0.3498, -0.7878, -0.7350],\n",
      "         [-0.7144, -0.3498,  0.2330, -0.2180]],\n",
      "\n",
      "        [[-0.7878, -0.7350,  1.0928,  0.8987],\n",
      "         [-0.7878, -0.7350, -0.7144, -0.3498],\n",
      "         [-0.7878, -0.7350, -0.7878, -0.7350],\n",
      "         [-0.7878, -0.7350,  0.2330, -0.2180]],\n",
      "\n",
      "        [[ 0.2330, -0.2180,  1.0928,  0.8987],\n",
      "         [ 0.2330, -0.2180, -0.7144, -0.3498],\n",
      "         [ 0.2330, -0.2180, -0.7878, -0.7350],\n",
      "         [ 0.2330, -0.2180,  0.2330, -0.2180]]])\n"
     ]
    }
   ],
   "source": [
    "\"\"\"a_input\"\"\"\n",
    "# N * a tensor: features after linear transformation\n",
    "h = torch.randn(4, 2)\n",
    "print(h)\n",
    "N = h.size()[0]\n",
    "a = h.size()[1]\n",
    "\n",
    "# N * N * 2a tensor: [hi; hj]^T  for any hi, hj\n",
    "a_input = torch.cat([h.repeat(1, N).view(N * N, -1), h.repeat(N, 1)], dim=1).view(N, N, 2 * a)\n",
    "print(a_input)"
   ]
  },
  {
   "cell_type": "code",
   "execution_count": 29,
   "metadata": {},
   "outputs": [
    {
     "name": "stdout",
     "output_type": "stream",
     "text": [
      "tensor([[ 3.9830,  0.9273,  0.4687,  2.0066],\n",
      "        [ 0.9273, -2.1285, -2.5870, -1.0492],\n",
      "        [ 0.4687, -2.5870, -3.0456, -1.5078],\n",
      "        [ 2.0066, -1.0492, -1.5078,  0.0301]])\n"
     ]
    }
   ],
   "source": [
    "\"\"\"a_coefficients\"\"\"\n",
    "# 2a * 1 tensor: attention weight\n",
    "a_weight = torch.ones((2 * a), 1)\n",
    "# N * N tensor: attention coefficients\n",
    "a_coef = torch.matmul(a_input, a_weight).squeeze(2)\n",
    "print(a_coef)"
   ]
  },
  {
   "cell_type": "code",
   "execution_count": 38,
   "metadata": {},
   "outputs": [
    {
     "name": "stdout",
     "output_type": "stream",
     "text": [
      "tensor([[ 3.9830,  0.9273,  0.4687,  2.0066],\n",
      "        [ 0.9273, -0.2128, -0.2587, -0.1049],\n",
      "        [ 0.4687, -0.2587, -0.3046, -0.1508],\n",
      "        [ 2.0066, -0.1049, -0.1508,  0.0301]])\n",
      "tensor([[ 3.9830e+00,  9.2729e-01, -9.0000e+15, -9.0000e+15],\n",
      "        [ 9.2729e-01, -2.1285e-01, -2.5870e-01, -1.0492e-01],\n",
      "        [-9.0000e+15, -2.5870e-01, -3.0456e-01, -1.5078e-01],\n",
      "        [-9.0000e+15, -1.0492e-01, -1.5078e-01,  3.0070e-02]])\n",
      "tensor([[0.9550, 0.0450, 0.0000, 0.0000],\n",
      "        [0.5047, 0.1614, 0.1542, 0.1798],\n",
      "        [0.0000, 0.3258, 0.3112, 0.3630],\n",
      "        [0.0000, 0.3226, 0.3082, 0.3692]])\n",
      "tensor([[0.9550, 0.0450, 0.0000, 0.0000],\n",
      "        [0.5047, 0.1614, 0.1542, 0.1798],\n",
      "        [0.0000, 0.3258, 0.3112, 0.3630],\n",
      "        [0.0000, 0.3226, 0.3082, 0.3692]])\n"
     ]
    }
   ],
   "source": [
    "\"\"\"normalize attention coefficients\"\"\"\n",
    "# (1) leaky_relu\n",
    "e = F.leaky_relu(a_coef, 0.1)\n",
    "print(e)\n",
    "# (2) replace eij with -inf if there is no edge(i, j)\n",
    "zero_vec = -9e15 * torch.ones_like(e)\n",
    "adj = torch.tensor([[1, 1, 0, 0], [1, 1, 1, 1], [0, 1, 1, 1], [0, 1, 1, 1]])\n",
    "attention = torch.where(adj > 0, e, zero_vec)\n",
    "print(attention)\n",
    "# (3) softmax\n",
    "attention = F.softmax(attention, dim=1)\n",
    "print(attention)"
   ]
  },
  {
   "cell_type": "code",
   "execution_count": 51,
   "metadata": {},
   "outputs": [],
   "source": [
    "\"\"\"GAT model\"\"\"\n",
    "class GAT(nn.Module):\n",
    "    def __init__(self, nfeat, nhid, nclass, dropout, alpha, nheads):\n",
    "        \"\"\"Dense version of GAT.\"\"\"\n",
    "        super(GAT, self).__init__()\n",
    "        self.dropout = dropout\n",
    "        \n",
    "        # multihead layer\n",
    "        self.attentions = [GraphAttentionLayer(nfeat, nhid, dropout=dropout, alpha=alpha, concat=True) for _ in range(nheads)]\n",
    "        for i, attention in enumerate(self.attentions):\n",
    "            self.add_module('attention_{}'.format(i), attention)\n",
    "\n",
    "        # simple GAT layer\n",
    "        self.out_att = GraphAttentionLayer(nhid * nheads, nclass, dropout=dropout, alpha=alpha, concat=False)\n",
    "\n",
    "    def forward(self, x, adj):\n",
    "        x = F.dropout(x, self.dropout, training=self.training)\n",
    "        # cat multihead\n",
    "        x = torch.cat([att(x, adj) for att in self.attentions], dim=1)\n",
    "        x = F.dropout(x, self.dropout, training=self.training)\n",
    "        x = F.elu(self.out_att(x, adj))\n",
    "        return F.log_softmax(x, dim=1)"
   ]
  },
  {
   "cell_type": "code",
   "execution_count": null,
   "metadata": {},
   "outputs": [],
   "source": []
  }
 ],
 "metadata": {
  "kernelspec": {
   "display_name": "Python 3",
   "language": "python",
   "name": "python3"
  },
  "language_info": {
   "codemirror_mode": {
    "name": "ipython",
    "version": 3
   },
   "file_extension": ".py",
   "mimetype": "text/x-python",
   "name": "python",
   "nbconvert_exporter": "python",
   "pygments_lexer": "ipython3",
   "version": "3.6.9"
  }
 },
 "nbformat": 4,
 "nbformat_minor": 4
}
